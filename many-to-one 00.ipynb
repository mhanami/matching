{
 "cells": [
  {
   "cell_type": "code",
   "execution_count": 4,
   "metadata": {
    "collapsed": false
   },
   "outputs": [],
   "source": [
    "from __future__ import division\n",
    "import numpy as np\n",
    "import random\n",
    "\n",
    "\n",
    "m = 59\n",
    "f = 30\n",
    "\n",
    "males = range(m)\n",
    "females = range(f)\n",
    "female_choice = range(m+1)\n",
    "male_choice = range(f+1)\n",
    "f_prefs = [random.sample(female_choice, m+1) for i in females]\n",
    "m_prefs = [random.sample(male_choice, f+1) for i in males]\n",
    "caps = range(f)\n",
    "for i in caps:\n",
    "    caps[i]=random.randint(0,m)\n",
    "\n",
    "\n",
    "def array_to_dict(array):\n",
    "    dict = {}\n",
    "    for x, y in enumerate(array):\n",
    "        dict[x] = list(y)\n",
    "    return dict\n",
    "\n",
    "def deferred_acceptance(m_prefs, f_prefs, caps=None):\n",
    "    # 辞書に変換\n",
    "    males = array_to_dict(m_prefs)\n",
    "    females = array_to_dict(f_prefs)\n",
    "    #男性に対し、ペアの女性を返す辞書。とりあえずペアがないから、空の状態\n",
    "    matches = {}\n",
    "    for i in range(len(m_prefs)):\n",
    "        matches[i] = \"\"\n",
    "    # 独身男性の集合\n",
    "    unsettled = range(len(m_prefs))\n",
    "    # 独身男性がいる限り、繰り返す。\n",
    "    while len(unsettled) != 0:\n",
    "        for i in unsettled:\n",
    "            # プロポーズ済の人を候補者から消す\n",
    "            # 好みランクが最も高い人にプロポーズする。\n",
    "            candidate = males[i].pop(0)\n",
    "            # 好みランクが最も高い人にプロポーズする。\n",
    "            # 好みの人がもうおらず、一人でいたい場合\n",
    "            \"\"\"\n",
    "            if candidate == (len(f_prefs)):\n",
    "                matches[i] = candidate\n",
    "                unsettled.remove(i)\n",
    "            \"\"\"\n",
    "            \n",
    "            if caps[candidate] == 0:\n",
    "                matches[i] =\"\"\n",
    "                unsettled.append(i)\n",
    "            elif 0 <= matches.values().count(candidate) < caps[candidate]:\n",
    "                matches[i] = candidate\n",
    "                unsettled.remove(i)\n",
    "                if matches.values().count(candidate) == caps[candidate]:\n",
    "                    matches_inv = {v:k for k, v in sort(matches.items())}\n",
    "                    \n",
    "                    \n",
    "\n",
    "prop_prefs=m_prefs\n",
    "resp_prefs=f_prefs\n",
    "n=f\n",
    "prop_choice=male_choice\n",
    "resp_choice=female_choice\n",
    "props=males\n",
    "resps=females"
   ]
  },
  {
   "cell_type": "code",
   "execution_count": null,
   "metadata": {
    "collapsed": true
   },
   "outputs": [],
   "source": []
  }
 ],
 "metadata": {
  "kernelspec": {
   "display_name": "Python 2",
   "language": "python",
   "name": "python2"
  },
  "language_info": {
   "codemirror_mode": {
    "name": "ipython",
    "version": 2
   },
   "file_extension": ".py",
   "mimetype": "text/x-python",
   "name": "python",
   "nbconvert_exporter": "python",
   "pygments_lexer": "ipython2",
   "version": "2.7.9"
  }
 },
 "nbformat": 4,
 "nbformat_minor": 0
}
