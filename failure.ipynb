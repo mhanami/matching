{
 "cells": [
  {
   "cell_type": "code",
   "execution_count": 36,
   "metadata": {
    "collapsed": false
   },
   "outputs": [
    {
     "ename": "IndexError",
     "evalue": "index 4 is out of bounds for axis 0 with size 4",
     "output_type": "error",
     "traceback": [
      "\u001b[0;31m---------------------------------------------------------------------------\u001b[0m",
      "\u001b[0;31mIndexError\u001b[0m                                Traceback (most recent call last)",
      "\u001b[0;32m<ipython-input-36-25a0c61e99bf>\u001b[0m in \u001b[0;36m<module>\u001b[0;34m()\u001b[0m\n\u001b[1;32m     19\u001b[0m     \u001b[0;32mfor\u001b[0m \u001b[0mi\u001b[0m \u001b[0;32min\u001b[0m \u001b[0msingles\u001b[0m\u001b[0;34m:\u001b[0m\u001b[0;34m\u001b[0m\u001b[0m\n\u001b[1;32m     20\u001b[0m         \u001b[0;31m#np.delete(m_prefs,i,0)\u001b[0m\u001b[0;34m\u001b[0m\u001b[0;34m\u001b[0m\u001b[0m\n\u001b[0;32m---> 21\u001b[0;31m         \u001b[0mproposed\u001b[0m\u001b[0;34m=\u001b[0m\u001b[0mm_prefs\u001b[0m\u001b[0;34m[\u001b[0m\u001b[0mi\u001b[0m\u001b[0;34m,\u001b[0m\u001b[0;36m0\u001b[0m\u001b[0;34m]\u001b[0m\u001b[0;34m\u001b[0m\u001b[0m\n\u001b[0m\u001b[1;32m     22\u001b[0m         \u001b[0;32mif\u001b[0m \u001b[0mproposed\u001b[0m \u001b[0;32mnot\u001b[0m \u001b[0;32min\u001b[0m \u001b[0mmatches\u001b[0m\u001b[0;34m.\u001b[0m\u001b[0mvalues\u001b[0m\u001b[0;34m(\u001b[0m\u001b[0;34m)\u001b[0m\u001b[0;34m:\u001b[0m\u001b[0;34m\u001b[0m\u001b[0m\n\u001b[1;32m     23\u001b[0m             \u001b[0mmatches\u001b[0m\u001b[0;34m[\u001b[0m\u001b[0mi\u001b[0m\u001b[0;34m]\u001b[0m\u001b[0;34m=\u001b[0m\u001b[0mproposed\u001b[0m\u001b[0;34m\u001b[0m\u001b[0m\n",
      "\u001b[0;31mIndexError\u001b[0m: index 4 is out of bounds for axis 0 with size 4"
     ]
    }
   ],
   "source": [
    "from __future__ import division\n",
    "def izip(*iterables):\n",
    "    # izip('ABCD', 'xy') --> Ax By\n",
    "    iterables = map(iter, iterables)\n",
    "    while iterables:\n",
    "        yield tuple(map(next, list(iterables)))\n",
    "import numpy as np\n",
    "male=[1,2,3,4]\n",
    "female=[1,2,3,4]\n",
    "m_prefs=np.array([[1,2,3,4],[3,2,1,4],[1,2,4,3],[3,1,4,2]])\n",
    "f_prefs=np.array([[1,2,3,4],[2,1,4,3],[2,3,1,4],[1,4,3,2]])\n",
    "males=dict(izip(male,m_prefs))\n",
    "females=dict(izip(female,f_prefs))\n",
    "matches={}\n",
    "for i in male:\n",
    "    matches[i]=\"\"\n",
    "singles=male\n",
    "while len(singles)!=0:\n",
    "    for i in singles:\n",
    "        #np.delete(m_prefs,i,0)\n",
    "        proposed=m_prefs[i,0]\n",
    "        if proposed not in matches.values():\n",
    "            matches[i]=proposed\n",
    "            singles.remove(i)\n",
    "        else:\n",
    "            matches_inv={v:k for k, v in matches.items()}\n",
    "            matched_male=matches_inv[proposed]\n",
    "            \n",
    "            f_prefs2=f_prefs[proposed].flatten()\n",
    "            x=np.where(f_prefs2==i)\n",
    "            y=np.where(f_prefs2==matched_male)\n",
    "            if x<y:\n",
    "                matches[i]=proposed\n",
    "                singles.remove(i)\n",
    "                matches[matched_male]=\"\"\n",
    "                singles.append(matched_male)\n",
    "return matches\n",
    "            "
   ]
  },
  {
   "cell_type": "code",
   "execution_count": 33,
   "metadata": {
    "collapsed": false
   },
   "outputs": [
    {
     "data": {
      "text/plain": [
       "(array([1]),)"
      ]
     },
     "execution_count": 33,
     "metadata": {},
     "output_type": "execute_result"
    }
   ],
   "source": [
    "m_prefs=np.array([[1,2,3,4],[3,2,1,4],[1,2,4,3],[3,1,4,2]])\n",
    "np.argwhere(m_prefs==3)\n",
    "m_prefs2=m_prefs[1].flatten()\n",
    "x=np.where(m_prefs2==2)\n",
    "x"
   ]
  },
  {
   "cell_type": "code",
   "execution_count": null,
   "metadata": {
    "collapsed": true
   },
   "outputs": [],
   "source": []
  }
 ],
 "metadata": {
  "kernelspec": {
   "display_name": "Python 2",
   "language": "python",
   "name": "python2"
  },
  "language_info": {
   "codemirror_mode": {
    "name": "ipython",
    "version": 2
   },
   "file_extension": ".py",
   "mimetype": "text/x-python",
   "name": "python",
   "nbconvert_exporter": "python",
   "pygments_lexer": "ipython2",
   "version": "2.7.9"
  }
 },
 "nbformat": 4,
 "nbformat_minor": 0
}
