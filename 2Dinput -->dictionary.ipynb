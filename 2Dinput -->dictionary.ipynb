{
 "cells": [
  {
   "cell_type": "code",
   "execution_count": 1,
   "metadata": {
    "collapsed": false
   },
   "outputs": [
    {
     "data": {
      "text/plain": [
       "{1: [1, 2, 3, 4], 2: [3, 2, 1, 4], 3: [1, 2, 4, 3], 4: [3, 1, 4, 2]}"
      ]
     },
     "execution_count": 1,
     "metadata": {},
     "output_type": "execute_result"
    }
   ],
   "source": [
    "def izip(*iterables):\n",
    "    # izip('ABCD', 'xy') --> Ax By\n",
    "    iterables = map(iter, iterables)\n",
    "    while iterables:\n",
    "        yield tuple(map(next, iterables))\n",
    "import numpy as np\n",
    "male=[1,2,3,4]\n",
    "female=[1,2,3,4]\n",
    "m_prefs=[[1,2,3,4],[3,2,1,4],[1,2,4,3],[3,1,4,2]]\n",
    "f_prefs=np.array([[1,2,3,4],[2,1,4,3],[2,3,1,4],[1,4,3,2]])\n",
    "males=dict(izip(male,m_prefs))\n",
    "males"
   ]
  },
  {
   "cell_type": "code",
   "execution_count": null,
   "metadata": {
    "collapsed": true
   },
   "outputs": [],
   "source": []
  }
 ],
 "metadata": {
  "kernelspec": {
   "display_name": "Python 2",
   "language": "python",
   "name": "python2"
  },
  "language_info": {
   "codemirror_mode": {
    "name": "ipython",
    "version": 2
   },
   "file_extension": ".py",
   "mimetype": "text/x-python",
   "name": "python",
   "nbconvert_exporter": "python",
   "pygments_lexer": "ipython2",
   "version": "2.7.9"
  }
 },
 "nbformat": 4,
 "nbformat_minor": 0
}
